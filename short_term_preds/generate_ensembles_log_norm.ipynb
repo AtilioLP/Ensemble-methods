{
 "cells": [
  {
   "cell_type": "code",
   "execution_count": 1,
   "id": "82299c68-9921-4a22-9f0c-a2aea654d698",
   "metadata": {},
   "outputs": [],
   "source": [
    "import os\n",
    "from dotenv import load_dotenv\n",
    "load_dotenv()\n",
    "\n",
    "api_key = os.getenv(\"API_KEY\")"
   ]
  },
  {
   "cell_type": "code",
   "execution_count": 2,
   "id": "433f353c-e762-46d6-9f04-b7b46c27a5ba",
   "metadata": {},
   "outputs": [],
   "source": [
    "import warnings\n",
    "from pandas.errors import SettingWithCopyWarning\n",
    "\n",
    "warnings.simplefilter(action='ignore', category=FutureWarning)\n",
    "warnings.simplefilter(action='ignore', category=SettingWithCopyWarning)"
   ]
  },
  {
   "cell_type": "code",
   "execution_count": 3,
   "id": "a1c02c3e-16b0-4e15-982f-52efc04a955d",
   "metadata": {},
   "outputs": [],
   "source": [
    "import numpy as np\n",
    "import pandas as pd\n",
    "from format_data import *\n",
    "from epiweeks import Week\n",
    "from mosqlient.scoring import Scorer\n",
    "from format_data import filter_agg_data\n",
    "\n",
    "import sys \n",
    "sys.path.append('../')\n",
    "from methods.ensemble import Ensemble"
   ]
  },
  {
   "cell_type": "code",
   "execution_count": 4,
   "id": "3dfd6f71-7119-4412-bc6f-c74219bc7d32",
   "metadata": {},
   "outputs": [
    {
     "data": {
      "text/plain": [
       "Week(2025, 18, CDC)"
      ]
     },
     "execution_count": 4,
     "metadata": {},
     "output_type": "execute_result"
    }
   ],
   "source": [
    "Week.fromdate(pd.to_datetime('2025-04-27'))"
   ]
  },
  {
   "cell_type": "markdown",
   "id": "ebd65533-1c4c-477d-a868-dd7973859261",
   "metadata": {},
   "source": [
    "### Apply models:"
   ]
  },
  {
   "cell_type": "code",
   "execution_count": 5,
   "id": "e846f1a1-0c19-44a8-b077-258e9ceb786a",
   "metadata": {},
   "outputs": [],
   "source": [
    "YEAR = 2023"
   ]
  },
  {
   "cell_type": "code",
   "execution_count": 6,
   "id": "c6e15b23-0e0e-4f8f-9223-586bcd81a9cc",
   "metadata": {},
   "outputs": [],
   "source": [
    "state = 'PR'"
   ]
  },
  {
   "cell_type": "code",
   "execution_count": 7,
   "id": "6b0e7d99-60ed-4b08-b646-e59567c0c740",
   "metadata": {},
   "outputs": [
    {
     "data": {
      "text/html": [
       "<div>\n",
       "<style scoped>\n",
       "    .dataframe tbody tr th:only-of-type {\n",
       "        vertical-align: middle;\n",
       "    }\n",
       "\n",
       "    .dataframe tbody tr th {\n",
       "        vertical-align: top;\n",
       "    }\n",
       "\n",
       "    .dataframe thead th {\n",
       "        text-align: right;\n",
       "    }\n",
       "</style>\n",
       "<table border=\"1\" class=\"dataframe\">\n",
       "  <thead>\n",
       "    <tr style=\"text-align: right;\">\n",
       "      <th></th>\n",
       "      <th>SE</th>\n",
       "      <th>casos</th>\n",
       "      <th>diff_casos</th>\n",
       "      <th>casos_mean</th>\n",
       "      <th>casos_std</th>\n",
       "      <th>casos_slope</th>\n",
       "    </tr>\n",
       "    <tr>\n",
       "      <th>date</th>\n",
       "      <th></th>\n",
       "      <th></th>\n",
       "      <th></th>\n",
       "      <th></th>\n",
       "      <th></th>\n",
       "      <th></th>\n",
       "    </tr>\n",
       "  </thead>\n",
       "  <tbody>\n",
       "    <tr>\n",
       "      <th>2010-01-24</th>\n",
       "      <td>4</td>\n",
       "      <td>7.784715</td>\n",
       "      <td>0.416670</td>\n",
       "      <td>7.243636</td>\n",
       "      <td>0.364523</td>\n",
       "      <td>0.313907</td>\n",
       "    </tr>\n",
       "    <tr>\n",
       "      <th>2010-01-31</th>\n",
       "      <td>5</td>\n",
       "      <td>8.188735</td>\n",
       "      <td>0.404020</td>\n",
       "      <td>7.570653</td>\n",
       "      <td>0.465085</td>\n",
       "      <td>0.415953</td>\n",
       "    </tr>\n",
       "    <tr>\n",
       "      <th>2010-02-07</th>\n",
       "      <td>6</td>\n",
       "      <td>8.741296</td>\n",
       "      <td>0.552561</td>\n",
       "      <td>8.020698</td>\n",
       "      <td>0.507233</td>\n",
       "      <td>0.452377</td>\n",
       "    </tr>\n",
       "    <tr>\n",
       "      <th>2010-02-14</th>\n",
       "      <td>7</td>\n",
       "      <td>9.185855</td>\n",
       "      <td>0.444559</td>\n",
       "      <td>8.475151</td>\n",
       "      <td>0.532604</td>\n",
       "      <td>0.475598</td>\n",
       "    </tr>\n",
       "    <tr>\n",
       "      <th>2010-02-21</th>\n",
       "      <td>8</td>\n",
       "      <td>9.684223</td>\n",
       "      <td>0.498367</td>\n",
       "      <td>8.950027</td>\n",
       "      <td>0.551768</td>\n",
       "      <td>0.493102</td>\n",
       "    </tr>\n",
       "  </tbody>\n",
       "</table>\n",
       "</div>"
      ],
      "text/plain": [
       "            SE     casos  diff_casos  casos_mean  casos_std  casos_slope\n",
       "date                                                                    \n",
       "2010-01-24   4  7.784715    0.416670    7.243636   0.364523     0.313907\n",
       "2010-01-31   5  8.188735    0.404020    7.570653   0.465085     0.415953\n",
       "2010-02-07   6  8.741296    0.552561    8.020698   0.507233     0.452377\n",
       "2010-02-14   7  9.185855    0.444559    8.475151   0.532604     0.475598\n",
       "2010-02-21   8  9.684223    0.498367    8.950027   0.551768     0.493102"
      ]
     },
     "execution_count": 7,
     "metadata": {},
     "output_type": "execute_result"
    }
   ],
   "source": [
    "df_st = filter_agg_data(state)\n",
    "\n",
    "df_org = org_data(df_st)\n",
    "\n",
    "df_org.to_csv(f'data/dengue_{state}.csv.gz')\n",
    "\n",
    "df_org.head()"
   ]
  },
  {
   "cell_type": "markdown",
   "id": "f248b783-f24a-46b6-b190-4b8bbe6a6d28",
   "metadata": {},
   "source": [
    "#### Train the models"
   ]
  },
  {
   "cell_type": "code",
   "execution_count": 8,
   "id": "3518c21d-4877-4c87-bada-f7300e2f5e3e",
   "metadata": {},
   "outputs": [],
   "source": [
    "from aux_func import *"
   ]
  },
  {
   "cell_type": "code",
   "execution_count": 9,
   "id": "d2add6fa-532d-475c-967f-bb08a7e67142",
   "metadata": {},
   "outputs": [],
   "source": [
    "start_train_date = str(Week(2015,1).startdate())\n",
    "end_train_date = str(Week(YEAR-1,52).startdate())"
   ]
  },
  {
   "cell_type": "code",
   "execution_count": 10,
   "id": "bb920df7-4e9e-4a32-869e-66c8ed75da20",
   "metadata": {
    "jp-MarkdownHeadingCollapsed": true
   },
   "outputs": [
    {
     "name": "stdout",
     "output_type": "stream",
     "text": [
      "PR\n",
      "--------------------- Training ARIMA ---------------------\n",
      "Performing stepwise search to minimize aic\n",
      " ARIMA(2,1,2)(0,0,0)[0] intercept   : AIC=inf, Time=0.41 sec\n",
      " ARIMA(0,1,0)(0,0,0)[0] intercept   : AIC=-1336.718, Time=0.03 sec\n",
      " ARIMA(1,1,0)(0,0,0)[0] intercept   : AIC=-1337.848, Time=0.05 sec\n",
      " ARIMA(0,1,1)(0,0,0)[0] intercept   : AIC=-1337.149, Time=0.06 sec\n",
      " ARIMA(0,1,0)(0,0,0)[0]             : AIC=-1338.678, Time=0.03 sec\n",
      " ARIMA(1,1,1)(0,0,0)[0] intercept   : AIC=-1332.893, Time=0.25 sec\n",
      "\n",
      "Best model:  ARIMA(0,1,0)(0,0,0)[0]          \n",
      "Total fit time: 0.834 seconds\n",
      "--------------------- Training GP ---------------------\n",
      "INFO:tensorflow:Assets written to: saved_models/gp_PR/assets\n"
     ]
    },
    {
     "name": "stderr",
     "output_type": "stream",
     "text": [
      "INFO:tensorflow:Assets written to: saved_models/gp_PR/assets\n"
     ]
    },
    {
     "name": "stdout",
     "output_type": "stream",
     "text": [
      "--------------------- Training LSTM ---------------------\n",
      "Training fold 1...\n"
     ]
    },
    {
     "name": "stderr",
     "output_type": "stream",
     "text": [
      "/opt/homebrew/Caskroom/miniforge/base/envs/ensemble_curto_prazo/lib/python3.12/site-packages/keras/src/layers/rnn/rnn.py:200: UserWarning: Do not pass an `input_shape`/`input_dim` argument to a layer. When using Sequential models, prefer using an `Input(shape)` object as the first layer in the model instead.\n",
      "  super().__init__(**kwargs)\n"
     ]
    },
    {
     "name": "stdout",
     "output_type": "stream",
     "text": [
      "Training fold 2...\n",
      "Training fold 3...\n",
      "Training fold 4...\n"
     ]
    }
   ],
   "source": [
    "train_models(state, start_train_date, end_train_date)"
   ]
  },
  {
   "cell_type": "code",
   "execution_count": 11,
   "id": "d8159340-c12a-4fa9-832f-c58030dbb20b",
   "metadata": {},
   "outputs": [],
   "source": [
    "end_date = Week(YEAR, 52).startdate()"
   ]
  },
  {
   "cell_type": "code",
   "execution_count": 12,
   "id": "56a4d44a-0a65-4e04-b51a-f1d21e7185ab",
   "metadata": {},
   "outputs": [],
   "source": [
    "df_forecast = pd.DataFrame()\n",
    "for date in pd.date_range(start=end_train_date, end=end_date, freq = 'W-SUN'):\n",
    "\n",
    "    df_concat = apply_models(state, date.strftime(format = '%Y-%m-%d'))\n",
    "\n",
    "    df_concat['epiweek'] =  Week.fromdate(date).isoformat()\n",
    "\n",
    "    df_forecast = pd.concat([df_forecast, df_concat], ignore_index = True)\n",
    "\n",
    "#df_forecast.head()"
   ]
  },
  {
   "cell_type": "code",
   "execution_count": 13,
   "id": "cad7ae84-d0d1-4173-897c-c9ea509a1fab",
   "metadata": {},
   "outputs": [],
   "source": [
    "df_forecast.to_csv(f'forecast_tables/for_{YEAR}_{state}.csv', index = False)"
   ]
  },
  {
   "cell_type": "markdown",
   "id": "6ac8a151-214a-4423-bbb5-c11c0d032c26",
   "metadata": {},
   "source": [
    "### Generate the ensembles: "
   ]
  },
  {
   "cell_type": "code",
   "execution_count": 14,
   "id": "07a058fc-9f44-4b94-9e47-43635935da57",
   "metadata": {},
   "outputs": [
    {
     "data": {
      "text/html": [
       "<div>\n",
       "<style scoped>\n",
       "    .dataframe tbody tr th:only-of-type {\n",
       "        vertical-align: middle;\n",
       "    }\n",
       "\n",
       "    .dataframe tbody tr th {\n",
       "        vertical-align: top;\n",
       "    }\n",
       "\n",
       "    .dataframe thead th {\n",
       "        text-align: right;\n",
       "    }\n",
       "</style>\n",
       "<table border=\"1\" class=\"dataframe\">\n",
       "  <thead>\n",
       "    <tr style=\"text-align: right;\">\n",
       "      <th></th>\n",
       "      <th>date</th>\n",
       "      <th>casos</th>\n",
       "      <th>uf</th>\n",
       "    </tr>\n",
       "  </thead>\n",
       "  <tbody>\n",
       "    <tr>\n",
       "      <th>0</th>\n",
       "      <td>2010-01-03</td>\n",
       "      <td>369.0</td>\n",
       "      <td>PR</td>\n",
       "    </tr>\n",
       "    <tr>\n",
       "      <th>1</th>\n",
       "      <td>2010-01-10</td>\n",
       "      <td>386.0</td>\n",
       "      <td>PR</td>\n",
       "    </tr>\n",
       "    <tr>\n",
       "      <th>2</th>\n",
       "      <td>2010-01-17</td>\n",
       "      <td>529.0</td>\n",
       "      <td>PR</td>\n",
       "    </tr>\n",
       "    <tr>\n",
       "      <th>3</th>\n",
       "      <td>2010-01-24</td>\n",
       "      <td>716.0</td>\n",
       "      <td>PR</td>\n",
       "    </tr>\n",
       "    <tr>\n",
       "      <th>4</th>\n",
       "      <td>2010-01-31</td>\n",
       "      <td>956.0</td>\n",
       "      <td>PR</td>\n",
       "    </tr>\n",
       "  </tbody>\n",
       "</table>\n",
       "</div>"
      ],
      "text/plain": [
       "        date  casos  uf\n",
       "0 2010-01-03  369.0  PR\n",
       "1 2010-01-10  386.0  PR\n",
       "2 2010-01-17  529.0  PR\n",
       "3 2010-01-24  716.0  PR\n",
       "4 2010-01-31  956.0  PR"
      ]
     },
     "execution_count": 14,
     "metadata": {},
     "output_type": "execute_result"
    }
   ],
   "source": [
    "df_casos = filter_agg_data(state)\n",
    "df_casos.head()"
   ]
  },
  {
   "cell_type": "code",
   "execution_count": 15,
   "id": "67db8c33-ee01-4ba0-a5db-9a778ac3c93f",
   "metadata": {},
   "outputs": [
    {
     "data": {
      "text/html": [
       "<div>\n",
       "<style scoped>\n",
       "    .dataframe tbody tr th:only-of-type {\n",
       "        vertical-align: middle;\n",
       "    }\n",
       "\n",
       "    .dataframe tbody tr th {\n",
       "        vertical-align: top;\n",
       "    }\n",
       "\n",
       "    .dataframe thead th {\n",
       "        text-align: right;\n",
       "    }\n",
       "</style>\n",
       "<table border=\"1\" class=\"dataframe\">\n",
       "  <thead>\n",
       "    <tr style=\"text-align: right;\">\n",
       "      <th></th>\n",
       "      <th>lower_95</th>\n",
       "      <th>upper_95</th>\n",
       "      <th>lower_90</th>\n",
       "      <th>upper_90</th>\n",
       "      <th>lower_80</th>\n",
       "      <th>upper_80</th>\n",
       "      <th>lower_50</th>\n",
       "      <th>upper_50</th>\n",
       "      <th>pred</th>\n",
       "      <th>date</th>\n",
       "      <th>step</th>\n",
       "      <th>model</th>\n",
       "      <th>epiweek</th>\n",
       "    </tr>\n",
       "  </thead>\n",
       "  <tbody>\n",
       "    <tr>\n",
       "      <th>0</th>\n",
       "      <td>907.724020</td>\n",
       "      <td>2677.743458</td>\n",
       "      <td>981.279792</td>\n",
       "      <td>2429.435612</td>\n",
       "      <td>1075.358322</td>\n",
       "      <td>2177.173297</td>\n",
       "      <td>1258.528692</td>\n",
       "      <td>1823.268402</td>\n",
       "      <td>1509.000000</td>\n",
       "      <td>2023-01-01</td>\n",
       "      <td>1</td>\n",
       "      <td>arima</td>\n",
       "      <td>2022W52</td>\n",
       "    </tr>\n",
       "    <tr>\n",
       "      <th>1</th>\n",
       "      <td>747.127417</td>\n",
       "      <td>3476.099876</td>\n",
       "      <td>830.527581</td>\n",
       "      <td>3006.563566</td>\n",
       "      <td>941.300659</td>\n",
       "      <td>2557.767184</td>\n",
       "      <td>1169.840738</td>\n",
       "      <td>1976.641778</td>\n",
       "      <td>1509.000000</td>\n",
       "      <td>2023-01-08</td>\n",
       "      <td>2</td>\n",
       "      <td>arima</td>\n",
       "      <td>2022W52</td>\n",
       "    </tr>\n",
       "    <tr>\n",
       "      <th>2</th>\n",
       "      <td>647.020726</td>\n",
       "      <td>4293.043466</td>\n",
       "      <td>733.746442</td>\n",
       "      <td>3566.279678</td>\n",
       "      <td>852.111871</td>\n",
       "      <td>2906.111929</td>\n",
       "      <td>1106.933230</td>\n",
       "      <td>2105.135371</td>\n",
       "      <td>1509.000000</td>\n",
       "      <td>2023-01-15</td>\n",
       "      <td>3</td>\n",
       "      <td>arima</td>\n",
       "      <td>2022W52</td>\n",
       "    </tr>\n",
       "    <tr>\n",
       "      <th>3</th>\n",
       "      <td>2627.952657</td>\n",
       "      <td>3825.025866</td>\n",
       "      <td>2709.140145</td>\n",
       "      <td>3712.341357</td>\n",
       "      <td>2805.652605</td>\n",
       "      <td>3586.396453</td>\n",
       "      <td>2974.658094</td>\n",
       "      <td>3384.490749</td>\n",
       "      <td>3173.296739</td>\n",
       "      <td>2023-01-01</td>\n",
       "      <td>1</td>\n",
       "      <td>gp</td>\n",
       "      <td>2022W52</td>\n",
       "    </tr>\n",
       "    <tr>\n",
       "      <th>4</th>\n",
       "      <td>1701.101873</td>\n",
       "      <td>2527.117102</td>\n",
       "      <td>1756.592192</td>\n",
       "      <td>2448.716216</td>\n",
       "      <td>1822.669226</td>\n",
       "      <td>2361.233417</td>\n",
       "      <td>1938.660455</td>\n",
       "      <td>2221.317868</td>\n",
       "      <td>2075.424656</td>\n",
       "      <td>2023-01-08</td>\n",
       "      <td>2</td>\n",
       "      <td>gp</td>\n",
       "      <td>2022W52</td>\n",
       "    </tr>\n",
       "  </tbody>\n",
       "</table>\n",
       "</div>"
      ],
      "text/plain": [
       "      lower_95     upper_95     lower_90     upper_90     lower_80  \\\n",
       "0   907.724020  2677.743458   981.279792  2429.435612  1075.358322   \n",
       "1   747.127417  3476.099876   830.527581  3006.563566   941.300659   \n",
       "2   647.020726  4293.043466   733.746442  3566.279678   852.111871   \n",
       "3  2627.952657  3825.025866  2709.140145  3712.341357  2805.652605   \n",
       "4  1701.101873  2527.117102  1756.592192  2448.716216  1822.669226   \n",
       "\n",
       "      upper_80     lower_50     upper_50         pred       date  step  model  \\\n",
       "0  2177.173297  1258.528692  1823.268402  1509.000000 2023-01-01     1  arima   \n",
       "1  2557.767184  1169.840738  1976.641778  1509.000000 2023-01-08     2  arima   \n",
       "2  2906.111929  1106.933230  2105.135371  1509.000000 2023-01-15     3  arima   \n",
       "3  3586.396453  2974.658094  3384.490749  3173.296739 2023-01-01     1     gp   \n",
       "4  2361.233417  1938.660455  2221.317868  2075.424656 2023-01-08     2     gp   \n",
       "\n",
       "   epiweek  \n",
       "0  2022W52  \n",
       "1  2022W52  \n",
       "2  2022W52  \n",
       "3  2022W52  \n",
       "4  2022W52  "
      ]
     },
     "execution_count": 15,
     "metadata": {},
     "output_type": "execute_result"
    }
   ],
   "source": [
    "df_for = pd.read_csv(f'forecast_tables/for_{YEAR}_{state}.csv')\n",
    "df_for.date = pd.to_datetime(df_for.date)\n",
    "df_for.head()"
   ]
  },
  {
   "cell_type": "code",
   "execution_count": 16,
   "id": "06e86ebc-5372-46ab-8def-974a5db3c750",
   "metadata": {},
   "outputs": [],
   "source": [
    "epiweeks = df_for.epiweek.unique()\n",
    "\n",
    "df_ens_lin_end = pd.DataFrame()\n",
    "df_ens_lin_end_equal = pd.DataFrame()\n",
    "df_ens_lin_end_crps = pd.DataFrame()\n",
    "df_ens_log_end = pd.DataFrame()\n",
    "df_ens_log_end_equal = pd.DataFrame()\n",
    "df_ens_log_end_crps = pd.DataFrame()\n",
    "\n",
    "weights_crps_lin = np.empty((0, 3))\n",
    "weights_crps_log = np.empty((0, 3))\n",
    "weights_crps_final = np.empty((0, 3))\n",
    "\n",
    "for idx in np.arange(1, len(epiweeks)):\n",
    "    \n",
    "    df_preds_last = format_pred(df_for, step =1, label_epiweek = epiweeks[idx-1])\n",
    "\n",
    "    casos = df_casos.loc[df_casos.date == df_preds_last.date[0].strftime(format = '%Y-%m-%d')].reset_index(drop = True)\n",
    "\n",
    "    weights_lin, weights_log, weights_crps = get_weights(api_key, df_preds_last, casos)\n",
    "\n",
    "    weights_crps_lin = np.concatenate((weights_crps_lin, weights_lin.reshape(1,3)))\n",
    "    weights_crps_log = np.concatenate((weights_crps_log, weights_log.reshape(1,3)))\n",
    "    weights_crps_final = np.concatenate((weights_crps_final, weights_crps.reshape(1,3)))\n",
    "\n",
    "    df_preds = format_pred(df_for, label_epiweek = epiweeks[idx])\n",
    "\n",
    "    df_ens_lin, df_ens_lin_equal,  df_ens_lin_crps, df_ens_log, df_ens_log_equal, df_ens_log_crps = apply_ensemble(df_preds, weights_lin, weights_log, weights_crps)\n",
    "\n",
    "    df_ens_lin_end = pd.concat([df_ens_lin_end, df_ens_lin], ignore_index = True)\n",
    "    \n",
    "    df_ens_lin_end_equal = pd.concat([df_ens_lin_end_equal, df_ens_lin_equal], ignore_index = True)\n",
    "\n",
    "    df_ens_lin_end_crps = pd.concat([df_ens_lin_end_crps, df_ens_lin_crps], ignore_index = True)\n",
    "\n",
    "    df_ens_log_end = pd.concat([df_ens_log_end, df_ens_log], ignore_index = True)\n",
    "    \n",
    "    df_ens_log_end_equal = pd.concat([df_ens_log_end_equal, df_ens_log_equal], ignore_index = True)\n",
    "\n",
    "    df_ens_log_end_crps = pd.concat([df_ens_log_end_crps, df_ens_log_crps], ignore_index = True)\n",
    "\n"
   ]
  },
  {
   "cell_type": "code",
   "execution_count": 17,
   "id": "92576fea-2966-4a94-ae94-e49659693ed0",
   "metadata": {},
   "outputs": [
    {
     "data": {
      "text/plain": [
       "3"
      ]
     },
     "execution_count": 17,
     "metadata": {},
     "output_type": "execute_result"
    }
   ],
   "source": [
    "len(weights_lin)"
   ]
  },
  {
   "cell_type": "code",
   "execution_count": 18,
   "id": "edc35403-3185-4924-8b18-0f0e0c0382ae",
   "metadata": {},
   "outputs": [
    {
     "data": {
      "text/html": [
       "<div>\n",
       "<style scoped>\n",
       "    .dataframe tbody tr th:only-of-type {\n",
       "        vertical-align: middle;\n",
       "    }\n",
       "\n",
       "    .dataframe tbody tr th {\n",
       "        vertical-align: top;\n",
       "    }\n",
       "\n",
       "    .dataframe thead th {\n",
       "        text-align: right;\n",
       "    }\n",
       "</style>\n",
       "<table border=\"1\" class=\"dataframe\">\n",
       "  <thead>\n",
       "    <tr style=\"text-align: right;\">\n",
       "      <th></th>\n",
       "      <th>weights_1</th>\n",
       "      <th>weights_2</th>\n",
       "      <th>weights_3</th>\n",
       "      <th>epiweek</th>\n",
       "      <th>date</th>\n",
       "    </tr>\n",
       "  </thead>\n",
       "  <tbody>\n",
       "    <tr>\n",
       "      <th>0</th>\n",
       "      <td>9.999980e-01</td>\n",
       "      <td>9.999991e-07</td>\n",
       "      <td>9.999997e-07</td>\n",
       "      <td>2023W01</td>\n",
       "      <td>2023-01-01</td>\n",
       "    </tr>\n",
       "    <tr>\n",
       "      <th>1</th>\n",
       "      <td>1.000041e-06</td>\n",
       "      <td>9.999990e-01</td>\n",
       "      <td>0.000000e+00</td>\n",
       "      <td>2023W02</td>\n",
       "      <td>2023-01-08</td>\n",
       "    </tr>\n",
       "    <tr>\n",
       "      <th>2</th>\n",
       "      <td>1.000067e-06</td>\n",
       "      <td>1.000000e-06</td>\n",
       "      <td>9.999980e-01</td>\n",
       "      <td>2023W03</td>\n",
       "      <td>2023-01-15</td>\n",
       "    </tr>\n",
       "    <tr>\n",
       "      <th>3</th>\n",
       "      <td>1.000003e-06</td>\n",
       "      <td>1.000060e-06</td>\n",
       "      <td>9.999980e-01</td>\n",
       "      <td>2023W04</td>\n",
       "      <td>2023-01-22</td>\n",
       "    </tr>\n",
       "    <tr>\n",
       "      <th>4</th>\n",
       "      <td>1.304694e-15</td>\n",
       "      <td>9.999990e-01</td>\n",
       "      <td>1.000000e-06</td>\n",
       "      <td>2023W05</td>\n",
       "      <td>2023-01-29</td>\n",
       "    </tr>\n",
       "  </tbody>\n",
       "</table>\n",
       "</div>"
      ],
      "text/plain": [
       "      weights_1     weights_2     weights_3  epiweek        date\n",
       "0  9.999980e-01  9.999991e-07  9.999997e-07  2023W01  2023-01-01\n",
       "1  1.000041e-06  9.999990e-01  0.000000e+00  2023W02  2023-01-08\n",
       "2  1.000067e-06  1.000000e-06  9.999980e-01  2023W03  2023-01-15\n",
       "3  1.000003e-06  1.000060e-06  9.999980e-01  2023W04  2023-01-22\n",
       "4  1.304694e-15  9.999990e-01  1.000000e-06  2023W05  2023-01-29"
      ]
     },
     "execution_count": 18,
     "metadata": {},
     "output_type": "execute_result"
    }
   ],
   "source": [
    "df_w_lin = pd.DataFrame(weights_crps_lin, columns = ['weights_1', 'weights_2', 'weights_3'])\n",
    "df_w_log = pd.DataFrame(weights_crps_log, columns = ['weights_1', 'weights_2', 'weights_3'])\n",
    "df_w_crps = pd.DataFrame(weights_crps_final, columns = ['weights_1', 'weights_2', 'weights_3'])\n",
    "\n",
    "for df in [df_w_lin, df_w_log, df_w_crps]:\n",
    "    \n",
    "    df['epiweek'] = epiweeks[1:]\n",
    "\n",
    "    df['date'] = df['epiweek'].apply(lambda x: Week.fromstring(x).startdate())\n",
    "\n",
    "\n",
    "df_w_lin.head()"
   ]
  },
  {
   "cell_type": "code",
   "execution_count": 19,
   "id": "0f677cae-41e3-4e44-878f-d09fa02f1883",
   "metadata": {},
   "outputs": [],
   "source": [
    "df_w_lin.to_csv(f'forecast_tables/weights_linear_{state}_for_{YEAR}.csv.gz')\n",
    "df_w_log.to_csv(f'forecast_tables/weights_log_{state}_for_{YEAR}.csv.gz')\n",
    "df_w_crps.to_csv(f'forecast_tables/weights_crps_{state}_for_{YEAR}.csv.gz')\n",
    "df_ens_lin_end.to_csv(f'forecast_tables/ensemble_linear_{state}_for_{YEAR}.csv.gz')\n",
    "df_ens_lin_end_equal.to_csv(f'forecast_tables/ensemble_linear_equal_{state}_for_{YEAR}.csv.gz')\n",
    "df_ens_log_end.to_csv(f'forecast_tables/ensemble_log_{state}_for_{YEAR}.csv.gz')\n",
    "df_ens_log_end_equal.to_csv(f'forecast_tables/ensemble_log_equal_{state}_for_{YEAR}.csv.gz')\n",
    "df_ens_lin_end_crps.to_csv(f'forecast_tables/ensemble_linear_crps_{state}_for_{YEAR}.csv.gz')\n",
    "df_ens_log_end_crps.to_csv(f'forecast_tables/ensemble_crps_log_{state}_for_{YEAR}.csv.gz')"
   ]
  }
 ],
 "metadata": {
  "kernelspec": {
   "display_name": "Python 3 (ipykernel)",
   "language": "python",
   "name": "python3"
  },
  "language_info": {
   "codemirror_mode": {
    "name": "ipython",
    "version": 3
   },
   "file_extension": ".py",
   "mimetype": "text/x-python",
   "name": "python",
   "nbconvert_exporter": "python",
   "pygments_lexer": "ipython3",
   "version": "3.12.0"
  }
 },
 "nbformat": 4,
 "nbformat_minor": 5
}
